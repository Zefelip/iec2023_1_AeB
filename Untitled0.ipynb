{
  "nbformat": 4,
  "nbformat_minor": 0,
  "metadata": {
    "colab": {
      "provenance": [],
      "authorship_tag": "ABX9TyMex96jkEeawC//orSz/yxP",
      "include_colab_link": true
    },
    "kernelspec": {
      "name": "python3",
      "display_name": "Python 3"
    },
    "language_info": {
      "name": "python"
    }
  },
  "cells": [
    {
      "cell_type": "markdown",
      "metadata": {
        "id": "view-in-github",
        "colab_type": "text"
      },
      "source": [
        "<a href=\"https://colab.research.google.com/github/Zefelip/iec2023_1_AeB/blob/main/Untitled0.ipynb\" target=\"_parent\"><img src=\"https://colab.research.google.com/assets/colab-badge.svg\" alt=\"Open In Colab\"/></a>"
      ]
    },
    {
      "cell_type": "markdown",
      "source": [
        "Introdução à Engenharia de Computação"
      ],
      "metadata": {
        "id": "p1JK3aSVyZns"
      }
    },
    {
      "cell_type": "code",
      "execution_count": null,
      "metadata": {
        "colab": {
          "base_uri": "https://localhost:8080/"
        },
        "id": "mG3TgRkayYNF",
        "outputId": "3bb076fc-0fd2-4e03-d93c-04112cd72ec1"
      },
      "outputs": [
        {
          "output_type": "stream",
          "name": "stdout",
          "text": [
            "A versão em uso é 3.10.12.\n"
          ]
        }
      ],
      "source": [
        "from platform import python_version\n",
        "print(f'A versão em uso é {(python_version ())}.')"
      ]
    },
    {
      "cell_type": "code",
      "source": [
        " # Verificar se o Python está funcionando\n",
        "print('Bye Bye World')"
      ],
      "metadata": {
        "colab": {
          "base_uri": "https://localhost:8080/"
        },
        "id": "RoN6cK760U4I",
        "outputId": "23d360ea-c26f-44c4-9abb-779a834c08f6"
      },
      "execution_count": null,
      "outputs": [
        {
          "output_type": "stream",
          "name": "stdout",
          "text": [
            "Bye Bye World\n"
          ]
        }
      ]
    },
    {
      "cell_type": "markdown",
      "source": [
        "# Operadores Aritméticos"
      ],
      "metadata": {
        "id": "M9HxfZZEMdLi"
      }
    },
    {
      "cell_type": "code",
      "source": [
        "# Adição\n",
        "1+1"
      ],
      "metadata": {
        "colab": {
          "base_uri": "https://localhost:8080/"
        },
        "id": "E5-fDnCH0ifv",
        "outputId": "e51e77c8-0f90-42e9-cb73-8a0aff0d255e"
      },
      "execution_count": null,
      "outputs": [
        {
          "output_type": "execute_result",
          "data": {
            "text/plain": [
              "2"
            ]
          },
          "metadata": {},
          "execution_count": 7
        }
      ]
    },
    {
      "cell_type": "code",
      "source": [
        "# Subtração\n",
        "2-1"
      ],
      "metadata": {
        "colab": {
          "base_uri": "https://localhost:8080/"
        },
        "id": "pqTXa-Gz0iqH",
        "outputId": "0dac602b-9d5d-4f1d-b11d-0b5d16a3dfd0"
      },
      "execution_count": null,
      "outputs": [
        {
          "output_type": "execute_result",
          "data": {
            "text/plain": [
              "1"
            ]
          },
          "metadata": {},
          "execution_count": 9
        }
      ]
    },
    {
      "cell_type": "code",
      "source": [
        "#Multiplicação\n",
        "2*3"
      ],
      "metadata": {
        "colab": {
          "base_uri": "https://localhost:8080/"
        },
        "id": "CIKotlz60ixI",
        "outputId": "86a455da-41e2-45b9-c078-d50b68e0b39b"
      },
      "execution_count": null,
      "outputs": [
        {
          "output_type": "execute_result",
          "data": {
            "text/plain": [
              "6"
            ]
          },
          "metadata": {},
          "execution_count": 8
        }
      ]
    },
    {
      "cell_type": "code",
      "source": [
        "  # Divisão\n",
        "  3/3"
      ],
      "metadata": {
        "colab": {
          "base_uri": "https://localhost:8080/"
        },
        "id": "OCIYZOu40vJX",
        "outputId": "de8d455c-7ce9-4ecc-dc81-e44c53349a32"
      },
      "execution_count": null,
      "outputs": [
        {
          "output_type": "execute_result",
          "data": {
            "text/plain": [
              "1.0"
            ]
          },
          "metadata": {},
          "execution_count": 10
        }
      ]
    },
    {
      "cell_type": "code",
      "source": [
        "# Potência\n",
        "4**2"
      ],
      "metadata": {
        "colab": {
          "base_uri": "https://localhost:8080/"
        },
        "id": "HS4XUjeX0wI_",
        "outputId": "5615cc04-5547-4d26-fe04-2040d54e2bb2"
      },
      "execution_count": null,
      "outputs": [
        {
          "output_type": "execute_result",
          "data": {
            "text/plain": [
              "16"
            ]
          },
          "metadata": {},
          "execution_count": 11
        }
      ]
    },
    {
      "cell_type": "code",
      "source": [
        "# Módulo (Resto da div)\n",
        "10 % 3\n"
      ],
      "metadata": {
        "id": "SiS5FHzv0wS3",
        "colab": {
          "base_uri": "https://localhost:8080/"
        },
        "outputId": "a6fa69a3-7929-4c38-fe88-15315ac70710"
      },
      "execution_count": null,
      "outputs": [
        {
          "output_type": "execute_result",
          "data": {
            "text/plain": [
              "1"
            ]
          },
          "metadata": {},
          "execution_count": 1
        }
      ]
    },
    {
      "cell_type": "markdown",
      "source": [
        "# Tipos de Dados"
      ],
      "metadata": {
        "id": "xF2mAGhi1aSN"
      }
    },
    {
      "cell_type": "code",
      "source": [
        "# Qual o tipo do (?) -> Inteiro\n",
        "type(5)"
      ],
      "metadata": {
        "colab": {
          "base_uri": "https://localhost:8080/"
        },
        "id": "I4IZJm7h1e3G",
        "outputId": "d8a22918-cf51-4638-87f2-7cdfb8188d46"
      },
      "execution_count": null,
      "outputs": [
        {
          "output_type": "execute_result",
          "data": {
            "text/plain": [
              "int"
            ]
          },
          "metadata": {},
          "execution_count": 12
        }
      ]
    },
    {
      "cell_type": "code",
      "source": [
        "# Qual o tipo do (?) -> float - Decimal\n",
        "type(5.0)"
      ],
      "metadata": {
        "id": "PgRUPnl71nym"
      },
      "execution_count": null,
      "outputs": []
    },
    {
      "cell_type": "code",
      "source": [
        "# Qual o tipo (?) -> String\n",
        "a = 'Estudando Python!'"
      ],
      "metadata": {
        "id": "rhncuLII1uuW"
      },
      "execution_count": null,
      "outputs": []
    },
    {
      "cell_type": "markdown",
      "source": [
        "# Condicional"
      ],
      "metadata": {
        "id": "Qq31A-0N2GuE"
      }
    },
    {
      "cell_type": "code",
      "source": [
        "# Condicional if (Se\n",
        "if 5>2:\n",
        "    print (\"A sentença é verdadeira!\")"
      ],
      "metadata": {
        "colab": {
          "base_uri": "https://localhost:8080/"
        },
        "id": "MsGQuvkj2J39",
        "outputId": "d36d9129-7bc8-411b-ce7f-aaffb23e3f0b"
      },
      "execution_count": null,
      "outputs": [
        {
          "output_type": "stream",
          "name": "stdout",
          "text": [
            "A sentença é verdadeira!\n"
          ]
        }
      ]
    },
    {
      "cell_type": "code",
      "source": [
        "# Condional if...else com variável\n",
        "dia = \"Quarta-feira\"\n",
        "if dia == \"Sexta Feira\":\n",
        "    print (\"Hoje fará sol!\")\n",
        "else:\n",
        "    print(\"Hoje vai chover!\")\n",
        "\n",
        "type(dia)"
      ],
      "metadata": {
        "colab": {
          "base_uri": "https://localhost:8080/"
        },
        "id": "psmLAf9z2Yqd",
        "outputId": "42497646-2780-4589-8bbd-bd1564135f75"
      },
      "execution_count": null,
      "outputs": [
        {
          "output_type": "stream",
          "name": "stdout",
          "text": [
            "Hoje vai chover!\n"
          ]
        },
        {
          "output_type": "execute_result",
          "data": {
            "text/plain": [
              "str"
            ]
          },
          "metadata": {},
          "execution_count": 17
        }
      ]
    },
    {
      "cell_type": "markdown",
      "source": [
        "# Lendo arquivos (.txt)"
      ],
      "metadata": {
        "id": "XMNiZ1Jc5-P3"
      }
    },
    {
      "cell_type": "code",
      "source": [
        "# abrindo o arquivo para leitura\n",
        "a1 = open(\"/content/drive/MyDrive/Teste.txt\", \"r\")"
      ],
      "metadata": {
        "id": "zAPepUcN6DwW"
      },
      "execution_count": null,
      "outputs": []
    },
    {
      "cell_type": "code",
      "source": [
        "# lendo o arquivo\n",
        "print(a1.read())"
      ],
      "metadata": {
        "colab": {
          "base_uri": "https://localhost:8080/"
        },
        "id": "BFF83SSn6lO4",
        "outputId": "bc70fee9-f94a-4b4c-e678-af43a0f9ad9d"
      },
      "execution_count": null,
      "outputs": [
        {
          "output_type": "stream",
          "name": "stdout",
          "text": [
            "Mensagem teste\n"
          ]
        }
      ]
    },
    {
      "cell_type": "markdown",
      "source": [
        "# Gravando arquivos (.txt)"
      ],
      "metadata": {
        "id": "qM8Xp1Xb8X-S"
      }
    },
    {
      "cell_type": "code",
      "source": [
        "# Abrindo o arquivo para gravação\n",
        "a2 = open (\"/content/drive/MyDrive/texte2.txt\", \"w\")"
      ],
      "metadata": {
        "id": "AAeEBZI18fgU"
      },
      "execution_count": null,
      "outputs": []
    },
    {
      "cell_type": "code",
      "source": [
        "# Gravando no arquivo\n",
        "a2.write(\"Arraial do Engenho!\")"
      ],
      "metadata": {
        "colab": {
          "base_uri": "https://localhost:8080/"
        },
        "id": "w4Xty-MP9Kij",
        "outputId": "ec6bb232-8f18-489b-9951-acde41735b04"
      },
      "execution_count": null,
      "outputs": [
        {
          "output_type": "execute_result",
          "data": {
            "text/plain": [
              "19"
            ]
          },
          "metadata": {},
          "execution_count": 26
        }
      ]
    },
    {
      "cell_type": "code",
      "source": [
        "# Abrindo o arquivo para leitura\n",
        "a2 = open (\"/content/drive/MyDrive/texte2.txt\", \"r\")\n"
      ],
      "metadata": {
        "id": "4XFSg6dq9gRq"
      },
      "execution_count": null,
      "outputs": []
    },
    {
      "cell_type": "code",
      "source": [
        "# imprimindo o arquivo\n",
        "print(a2.read())"
      ],
      "metadata": {
        "colab": {
          "base_uri": "https://localhost:8080/"
        },
        "id": "kMzjmx2n9ota",
        "outputId": "9c53699b-ade6-4a63-f3b0-216e4cd3fcb0"
      },
      "execution_count": null,
      "outputs": [
        {
          "output_type": "stream",
          "name": "stdout",
          "text": [
            "Arraial do Engenho!\n"
          ]
        }
      ]
    }
  ]
}